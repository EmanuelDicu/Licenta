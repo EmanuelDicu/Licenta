{
 "cells": [
  {
   "cell_type": "code",
   "execution_count": 32,
   "metadata": {},
   "outputs": [],
   "source": [
    "import json\n",
    "import os\n",
    "import subprocess\n",
    "from openai import OpenAI"
   ]
  },
  {
   "cell_type": "code",
   "execution_count": 33,
   "metadata": {},
   "outputs": [],
   "source": [
    "# Get dataset directory\n",
    "directory = os.getcwd()\n",
    "dataset_directory = os.path.join(directory, 'problems_dataset')"
   ]
  },
  {
   "cell_type": "code",
   "execution_count": 34,
   "metadata": {},
   "outputs": [],
   "source": [
    "#Function to get all the filenames of dataset problems\n",
    "def get_problem_filenames():\n",
    "    filenames = []\n",
    "    for filename in os.listdir(dataset_directory):\n",
    "        if filename.endswith('.json'):\n",
    "            filenames.append(filename)\n",
    "    return filenames"
   ]
  },
  {
   "cell_type": "code",
   "execution_count": 35,
   "metadata": {},
   "outputs": [],
   "source": [
    "# Function to load a problem file from dataset directory\n",
    "def load_problem(problem_filename):\n",
    "    path = os.path.join(dataset_directory, problem_filename)\n",
    "    with open(path, 'r') as json_file:\n",
    "        problem = json.load(json_file)\n",
    "    return problem"
   ]
  },
  {
   "cell_type": "code",
   "execution_count": 36,
   "metadata": {},
   "outputs": [],
   "source": [
    "# Custom exception classes with error messages\n",
    "class CompilationError(Exception):\n",
    "    def __init__(self, message):\n",
    "        self.message = message\n",
    "        super().__init__(self.message)\n",
    "\n",
    "class RuntimeError(Exception):\n",
    "    def __init__(self, message):\n",
    "        self.message = message\n",
    "        super().__init__(self.message)\n",
    "\n",
    "class TestFailed(Exception):\n",
    "    def __init__(self, message, input, expected_output, output):\n",
    "        self.message = message\n",
    "        super().__init__(self.message)\n",
    "\n",
    "class TestSuccess(Exception):\n",
    "    pass"
   ]
  },
  {
   "cell_type": "code",
   "execution_count": 37,
   "metadata": {},
   "outputs": [],
   "source": [
    "# Function to compile the C++ program\n",
    "def compile_cpp(source_file, exec_file):\n",
    "    compile_command = [\"g++\", source_file, \"-o\", exec_file]\n",
    "    result = subprocess.run(compile_command, stdout=subprocess.PIPE, stderr=subprocess.PIPE)\n",
    "    if result.returncode != 0:\n",
    "        raise CompilationError(f\"Compilation failed: {result.stderr.decode('utf-8')}\")\n",
    "    return True"
   ]
  },
  {
   "cell_type": "code",
   "execution_count": 38,
   "metadata": {},
   "outputs": [],
   "source": [
    "# Function to run the compiled program with the provided input and capture the output\n",
    "def run_program(executable, input_data):\n",
    "    process = subprocess.Popen([f\"./{executable}\"], stdin=subprocess.PIPE, stdout=subprocess.PIPE, stderr=subprocess.PIPE)\n",
    "    output, error = process.communicate(input=input_data.encode())\n",
    "    if process.returncode != 0:\n",
    "        raise RuntimeError(f\"Runtime error: {error.decode('utf-8')}\")\n",
    "    return output.decode('utf-8')"
   ]
  },
  {
   "cell_type": "code",
   "execution_count": 40,
   "metadata": {},
   "outputs": [],
   "source": [
    "# Function to run tests and compare output\n",
    "def run_tests(test_cases, executable):\n",
    "    f = open('tmp_output.txt', 'w')\n",
    "    for i, test in enumerate(test_cases):\n",
    "        input_data = test[\"input\"]\n",
    "        expected_output = test[\"output\"]\n",
    "        try:\n",
    "            actual_output = run_program(executable, input_data)\n",
    "        except RuntimeError as e:\n",
    "            print(f\"Test case {i+1}: RUNTIME ERROR\")\n",
    "            print(e.message)\n",
    "            continue\n",
    "\n",
    "        # Compare outputs\n",
    "        if actual_output.strip() == expected_output.strip():\n",
    "            f.write(f\"Test case {i+1}: PASSED\\n\")\n",
    "        else:\n",
    "            f.write(f\"Test case {i+1}: FAILED\\n\")\n",
    "            f.write(f\"Expected output:\\n{expected_output}\\n\")\n",
    "            f.write(f\"Actual output:\\n{actual_output}\\n\")\n",
    "            raise TestFailed(f\"Test case {i+1} failed\", input_data, expected_output, actual_output)\n",
    "    f.close()\n",
    "    raise TestSuccess(\"All test cases passed\") "
   ]
  },
  {
   "cell_type": "code",
   "execution_count": 41,
   "metadata": {},
   "outputs": [],
   "source": [
    "# Function to parse test cases from the problem JSON\n",
    "def parse_test_cases(problem):\n",
    "    test_cases = []\n",
    "    for test_case in problem[\"public_tests\"]:\n",
    "        test_cases.append({\n",
    "            \"input\": test_case[\"input\"],\n",
    "            \"output\": test_case[\"output\"]\n",
    "        })\n",
    "    for test_case in problem[\"generated_tests\"]:\n",
    "        test_cases.append({\n",
    "            \"input\": test_case[\"input\"],\n",
    "            \"output\": test_case[\"output\"]\n",
    "        })\n",
    "    return test_cases"
   ]
  },
  {
   "cell_type": "code",
   "execution_count": 42,
   "metadata": {},
   "outputs": [],
   "source": [
    "# Function to test solution\n",
    "def test_solution(problem, solution_code):\n",
    "    # Write the solution to a file\n",
    "    source_file = \"solution.cpp\"\n",
    "    with open(source_file, \"w\") as file:\n",
    "        file.write(solution_code)\n",
    "    \n",
    "    # Compile the solution\n",
    "    executable = \"solution\"\n",
    "    compile_cpp(source_file, executable)\n",
    "    \n",
    "    # Parse test cases\n",
    "    test_cases = parse_test_cases(problem)\n",
    "    \n",
    "    # Run the tests\n",
    "    try:\n",
    "        run_tests(test_cases, executable)\n",
    "    except TestFailed as e:\n",
    "        raise TestFailed(e.message, e.input, e.expected_output, e.output)\n",
    "    except TestSuccess:\n",
    "        raise TestSuccess(\"All test cases passed\")\n",
    "    except Exception as e:\n",
    "        exit(e.message)\n",
    "    finally:\n",
    "        # Delete the source file and executable\n",
    "        os.remove(source_file)\n",
    "        os.remove(executable)"
   ]
  },
  {
   "cell_type": "code",
   "execution_count": 43,
   "metadata": {},
   "outputs": [
    {
     "ename": "FileNotFoundError",
     "evalue": "[WinError 2] The system cannot find the file specified",
     "output_type": "error",
     "traceback": [
      "\u001b[1;31m---------------------------------------------------------------------------\u001b[0m",
      "\u001b[1;31mFileNotFoundError\u001b[0m                         Traceback (most recent call last)",
      "Cell \u001b[1;32mIn[43], line 8\u001b[0m\n\u001b[0;32m      5\u001b[0m     problem \u001b[38;5;241m=\u001b[39m json\u001b[38;5;241m.\u001b[39mload(json_file)\n\u001b[0;32m      7\u001b[0m \u001b[38;5;28;01mtry\u001b[39;00m:\n\u001b[1;32m----> 8\u001b[0m     \u001b[43mtest_solution\u001b[49m\u001b[43m(\u001b[49m\u001b[43mproblem\u001b[49m\u001b[43m,\u001b[49m\u001b[43m \u001b[49m\u001b[43msolution_code\u001b[49m\u001b[43m)\u001b[49m\n\u001b[0;32m      9\u001b[0m \u001b[38;5;28;01mexcept\u001b[39;00m TestFailed \u001b[38;5;28;01mas\u001b[39;00m e:\n\u001b[0;32m     10\u001b[0m     \u001b[38;5;28mprint\u001b[39m(e\u001b[38;5;241m.\u001b[39mmessage)\n",
      "Cell \u001b[1;32mIn[42], line 10\u001b[0m, in \u001b[0;36mtest_solution\u001b[1;34m(problem, solution_code)\u001b[0m\n\u001b[0;32m      8\u001b[0m \u001b[38;5;66;03m# Compile the solution\u001b[39;00m\n\u001b[0;32m      9\u001b[0m executable \u001b[38;5;241m=\u001b[39m \u001b[38;5;124m\"\u001b[39m\u001b[38;5;124msolution\u001b[39m\u001b[38;5;124m\"\u001b[39m\n\u001b[1;32m---> 10\u001b[0m \u001b[43mcompile_cpp\u001b[49m\u001b[43m(\u001b[49m\u001b[43msource_file\u001b[49m\u001b[43m,\u001b[49m\u001b[43m \u001b[49m\u001b[43mexecutable\u001b[49m\u001b[43m)\u001b[49m\n\u001b[0;32m     12\u001b[0m \u001b[38;5;66;03m# Parse test cases\u001b[39;00m\n\u001b[0;32m     13\u001b[0m test_cases \u001b[38;5;241m=\u001b[39m parse_test_cases(problem)\n",
      "Cell \u001b[1;32mIn[37], line 4\u001b[0m, in \u001b[0;36mcompile_cpp\u001b[1;34m(source_file, exec_file)\u001b[0m\n\u001b[0;32m      2\u001b[0m \u001b[38;5;28;01mdef\u001b[39;00m \u001b[38;5;21mcompile_cpp\u001b[39m(source_file, exec_file):\n\u001b[0;32m      3\u001b[0m     compile_command \u001b[38;5;241m=\u001b[39m [\u001b[38;5;124m\"\u001b[39m\u001b[38;5;124mg++\u001b[39m\u001b[38;5;124m\"\u001b[39m, source_file, \u001b[38;5;124m\"\u001b[39m\u001b[38;5;124m-o\u001b[39m\u001b[38;5;124m\"\u001b[39m, exec_file]\n\u001b[1;32m----> 4\u001b[0m     result \u001b[38;5;241m=\u001b[39m \u001b[43msubprocess\u001b[49m\u001b[38;5;241;43m.\u001b[39;49m\u001b[43mrun\u001b[49m\u001b[43m(\u001b[49m\u001b[43mcompile_command\u001b[49m\u001b[43m,\u001b[49m\u001b[43m \u001b[49m\u001b[43mstdout\u001b[49m\u001b[38;5;241;43m=\u001b[39;49m\u001b[43msubprocess\u001b[49m\u001b[38;5;241;43m.\u001b[39;49m\u001b[43mPIPE\u001b[49m\u001b[43m,\u001b[49m\u001b[43m \u001b[49m\u001b[43mstderr\u001b[49m\u001b[38;5;241;43m=\u001b[39;49m\u001b[43msubprocess\u001b[49m\u001b[38;5;241;43m.\u001b[39;49m\u001b[43mPIPE\u001b[49m\u001b[43m)\u001b[49m\n\u001b[0;32m      5\u001b[0m     \u001b[38;5;28;01mif\u001b[39;00m result\u001b[38;5;241m.\u001b[39mreturncode \u001b[38;5;241m!=\u001b[39m \u001b[38;5;241m0\u001b[39m:\n\u001b[0;32m      6\u001b[0m         \u001b[38;5;28;01mraise\u001b[39;00m CompilationError(\u001b[38;5;124mf\u001b[39m\u001b[38;5;124m\"\u001b[39m\u001b[38;5;124mCompilation failed: \u001b[39m\u001b[38;5;132;01m{\u001b[39;00mresult\u001b[38;5;241m.\u001b[39mstderr\u001b[38;5;241m.\u001b[39mdecode(\u001b[38;5;124m'\u001b[39m\u001b[38;5;124mutf-8\u001b[39m\u001b[38;5;124m'\u001b[39m)\u001b[38;5;132;01m}\u001b[39;00m\u001b[38;5;124m\"\u001b[39m)\n",
      "File \u001b[1;32mc:\\Users\\User\\AppData\\Local\\Programs\\Python\\Python312\\Lib\\subprocess.py:548\u001b[0m, in \u001b[0;36mrun\u001b[1;34m(input, capture_output, timeout, check, *popenargs, **kwargs)\u001b[0m\n\u001b[0;32m    545\u001b[0m     kwargs[\u001b[38;5;124m'\u001b[39m\u001b[38;5;124mstdout\u001b[39m\u001b[38;5;124m'\u001b[39m] \u001b[38;5;241m=\u001b[39m PIPE\n\u001b[0;32m    546\u001b[0m     kwargs[\u001b[38;5;124m'\u001b[39m\u001b[38;5;124mstderr\u001b[39m\u001b[38;5;124m'\u001b[39m] \u001b[38;5;241m=\u001b[39m PIPE\n\u001b[1;32m--> 548\u001b[0m \u001b[38;5;28;01mwith\u001b[39;00m \u001b[43mPopen\u001b[49m\u001b[43m(\u001b[49m\u001b[38;5;241;43m*\u001b[39;49m\u001b[43mpopenargs\u001b[49m\u001b[43m,\u001b[49m\u001b[43m \u001b[49m\u001b[38;5;241;43m*\u001b[39;49m\u001b[38;5;241;43m*\u001b[39;49m\u001b[43mkwargs\u001b[49m\u001b[43m)\u001b[49m \u001b[38;5;28;01mas\u001b[39;00m process:\n\u001b[0;32m    549\u001b[0m     \u001b[38;5;28;01mtry\u001b[39;00m:\n\u001b[0;32m    550\u001b[0m         stdout, stderr \u001b[38;5;241m=\u001b[39m process\u001b[38;5;241m.\u001b[39mcommunicate(\u001b[38;5;28minput\u001b[39m, timeout\u001b[38;5;241m=\u001b[39mtimeout)\n",
      "File \u001b[1;32mc:\\Users\\User\\AppData\\Local\\Programs\\Python\\Python312\\Lib\\subprocess.py:1026\u001b[0m, in \u001b[0;36mPopen.__init__\u001b[1;34m(self, args, bufsize, executable, stdin, stdout, stderr, preexec_fn, close_fds, shell, cwd, env, universal_newlines, startupinfo, creationflags, restore_signals, start_new_session, pass_fds, user, group, extra_groups, encoding, errors, text, umask, pipesize, process_group)\u001b[0m\n\u001b[0;32m   1022\u001b[0m         \u001b[38;5;28;01mif\u001b[39;00m \u001b[38;5;28mself\u001b[39m\u001b[38;5;241m.\u001b[39mtext_mode:\n\u001b[0;32m   1023\u001b[0m             \u001b[38;5;28mself\u001b[39m\u001b[38;5;241m.\u001b[39mstderr \u001b[38;5;241m=\u001b[39m io\u001b[38;5;241m.\u001b[39mTextIOWrapper(\u001b[38;5;28mself\u001b[39m\u001b[38;5;241m.\u001b[39mstderr,\n\u001b[0;32m   1024\u001b[0m                     encoding\u001b[38;5;241m=\u001b[39mencoding, errors\u001b[38;5;241m=\u001b[39merrors)\n\u001b[1;32m-> 1026\u001b[0m     \u001b[38;5;28;43mself\u001b[39;49m\u001b[38;5;241;43m.\u001b[39;49m\u001b[43m_execute_child\u001b[49m\u001b[43m(\u001b[49m\u001b[43margs\u001b[49m\u001b[43m,\u001b[49m\u001b[43m \u001b[49m\u001b[43mexecutable\u001b[49m\u001b[43m,\u001b[49m\u001b[43m \u001b[49m\u001b[43mpreexec_fn\u001b[49m\u001b[43m,\u001b[49m\u001b[43m \u001b[49m\u001b[43mclose_fds\u001b[49m\u001b[43m,\u001b[49m\n\u001b[0;32m   1027\u001b[0m \u001b[43m                        \u001b[49m\u001b[43mpass_fds\u001b[49m\u001b[43m,\u001b[49m\u001b[43m \u001b[49m\u001b[43mcwd\u001b[49m\u001b[43m,\u001b[49m\u001b[43m \u001b[49m\u001b[43menv\u001b[49m\u001b[43m,\u001b[49m\n\u001b[0;32m   1028\u001b[0m \u001b[43m                        \u001b[49m\u001b[43mstartupinfo\u001b[49m\u001b[43m,\u001b[49m\u001b[43m \u001b[49m\u001b[43mcreationflags\u001b[49m\u001b[43m,\u001b[49m\u001b[43m \u001b[49m\u001b[43mshell\u001b[49m\u001b[43m,\u001b[49m\n\u001b[0;32m   1029\u001b[0m \u001b[43m                        \u001b[49m\u001b[43mp2cread\u001b[49m\u001b[43m,\u001b[49m\u001b[43m \u001b[49m\u001b[43mp2cwrite\u001b[49m\u001b[43m,\u001b[49m\n\u001b[0;32m   1030\u001b[0m \u001b[43m                        \u001b[49m\u001b[43mc2pread\u001b[49m\u001b[43m,\u001b[49m\u001b[43m \u001b[49m\u001b[43mc2pwrite\u001b[49m\u001b[43m,\u001b[49m\n\u001b[0;32m   1031\u001b[0m \u001b[43m                        \u001b[49m\u001b[43merrread\u001b[49m\u001b[43m,\u001b[49m\u001b[43m \u001b[49m\u001b[43merrwrite\u001b[49m\u001b[43m,\u001b[49m\n\u001b[0;32m   1032\u001b[0m \u001b[43m                        \u001b[49m\u001b[43mrestore_signals\u001b[49m\u001b[43m,\u001b[49m\n\u001b[0;32m   1033\u001b[0m \u001b[43m                        \u001b[49m\u001b[43mgid\u001b[49m\u001b[43m,\u001b[49m\u001b[43m \u001b[49m\u001b[43mgids\u001b[49m\u001b[43m,\u001b[49m\u001b[43m \u001b[49m\u001b[43muid\u001b[49m\u001b[43m,\u001b[49m\u001b[43m \u001b[49m\u001b[43mumask\u001b[49m\u001b[43m,\u001b[49m\n\u001b[0;32m   1034\u001b[0m \u001b[43m                        \u001b[49m\u001b[43mstart_new_session\u001b[49m\u001b[43m,\u001b[49m\u001b[43m \u001b[49m\u001b[43mprocess_group\u001b[49m\u001b[43m)\u001b[49m\n\u001b[0;32m   1035\u001b[0m \u001b[38;5;28;01mexcept\u001b[39;00m:\n\u001b[0;32m   1036\u001b[0m     \u001b[38;5;66;03m# Cleanup if the child failed starting.\u001b[39;00m\n\u001b[0;32m   1037\u001b[0m     \u001b[38;5;28;01mfor\u001b[39;00m f \u001b[38;5;129;01min\u001b[39;00m \u001b[38;5;28mfilter\u001b[39m(\u001b[38;5;28;01mNone\u001b[39;00m, (\u001b[38;5;28mself\u001b[39m\u001b[38;5;241m.\u001b[39mstdin, \u001b[38;5;28mself\u001b[39m\u001b[38;5;241m.\u001b[39mstdout, \u001b[38;5;28mself\u001b[39m\u001b[38;5;241m.\u001b[39mstderr)):\n",
      "File \u001b[1;32mc:\\Users\\User\\AppData\\Local\\Programs\\Python\\Python312\\Lib\\subprocess.py:1538\u001b[0m, in \u001b[0;36mPopen._execute_child\u001b[1;34m(self, args, executable, preexec_fn, close_fds, pass_fds, cwd, env, startupinfo, creationflags, shell, p2cread, p2cwrite, c2pread, c2pwrite, errread, errwrite, unused_restore_signals, unused_gid, unused_gids, unused_uid, unused_umask, unused_start_new_session, unused_process_group)\u001b[0m\n\u001b[0;32m   1536\u001b[0m \u001b[38;5;66;03m# Start the process\u001b[39;00m\n\u001b[0;32m   1537\u001b[0m \u001b[38;5;28;01mtry\u001b[39;00m:\n\u001b[1;32m-> 1538\u001b[0m     hp, ht, pid, tid \u001b[38;5;241m=\u001b[39m \u001b[43m_winapi\u001b[49m\u001b[38;5;241;43m.\u001b[39;49m\u001b[43mCreateProcess\u001b[49m\u001b[43m(\u001b[49m\u001b[43mexecutable\u001b[49m\u001b[43m,\u001b[49m\u001b[43m \u001b[49m\u001b[43margs\u001b[49m\u001b[43m,\u001b[49m\n\u001b[0;32m   1539\u001b[0m \u001b[43m                             \u001b[49m\u001b[38;5;66;43;03m# no special security\u001b[39;49;00m\n\u001b[0;32m   1540\u001b[0m \u001b[43m                             \u001b[49m\u001b[38;5;28;43;01mNone\u001b[39;49;00m\u001b[43m,\u001b[49m\u001b[43m \u001b[49m\u001b[38;5;28;43;01mNone\u001b[39;49;00m\u001b[43m,\u001b[49m\n\u001b[0;32m   1541\u001b[0m \u001b[43m                             \u001b[49m\u001b[38;5;28;43mint\u001b[39;49m\u001b[43m(\u001b[49m\u001b[38;5;129;43;01mnot\u001b[39;49;00m\u001b[43m \u001b[49m\u001b[43mclose_fds\u001b[49m\u001b[43m)\u001b[49m\u001b[43m,\u001b[49m\n\u001b[0;32m   1542\u001b[0m \u001b[43m                             \u001b[49m\u001b[43mcreationflags\u001b[49m\u001b[43m,\u001b[49m\n\u001b[0;32m   1543\u001b[0m \u001b[43m                             \u001b[49m\u001b[43menv\u001b[49m\u001b[43m,\u001b[49m\n\u001b[0;32m   1544\u001b[0m \u001b[43m                             \u001b[49m\u001b[43mcwd\u001b[49m\u001b[43m,\u001b[49m\n\u001b[0;32m   1545\u001b[0m \u001b[43m                             \u001b[49m\u001b[43mstartupinfo\u001b[49m\u001b[43m)\u001b[49m\n\u001b[0;32m   1546\u001b[0m \u001b[38;5;28;01mfinally\u001b[39;00m:\n\u001b[0;32m   1547\u001b[0m     \u001b[38;5;66;03m# Child is launched. Close the parent's copy of those pipe\u001b[39;00m\n\u001b[0;32m   1548\u001b[0m     \u001b[38;5;66;03m# handles that only the child should have open.  You need\u001b[39;00m\n\u001b[1;32m   (...)\u001b[0m\n\u001b[0;32m   1551\u001b[0m     \u001b[38;5;66;03m# pipe will not close when the child process exits and the\u001b[39;00m\n\u001b[0;32m   1552\u001b[0m     \u001b[38;5;66;03m# ReadFile will hang.\u001b[39;00m\n\u001b[0;32m   1553\u001b[0m     \u001b[38;5;28mself\u001b[39m\u001b[38;5;241m.\u001b[39m_close_pipe_fds(p2cread, p2cwrite,\n\u001b[0;32m   1554\u001b[0m                          c2pread, c2pwrite,\n\u001b[0;32m   1555\u001b[0m                          errread, errwrite)\n",
      "\u001b[1;31mFileNotFoundError\u001b[0m: [WinError 2] The system cannot find the file specified"
     ]
    }
   ],
   "source": [
    "# Mock solution\n",
    "solution_code = \"#include<iostream> \\nusing namespace std; \\nint main() { \\nint a, b; \\ncin >> a >> b; \\ncout << a + b << endl; \\nreturn 0; \\n} \\n\"\n",
    "# Load addition.json problem\n",
    "with open('addition.json', 'r') as json_file:\n",
    "    problem = json.load(json_file)\n",
    "\n",
    "try:\n",
    "    test_solution(problem, solution_code)\n",
    "except TestFailed as e:\n",
    "    print(e.message)\n",
    "    print(\"Input:\\n\", e.input)\n",
    "    print(\"Expected output:\\n\", e.expected_output)\n",
    "    print(\"Actual output:\\n\", e.output)\n",
    "except TestSuccess:\n",
    "    print(\"All test cases passed\")\n"
   ]
  },
  {
   "cell_type": "code",
   "execution_count": 8,
   "metadata": {},
   "outputs": [],
   "source": [
    "client = OpenAI()\n",
    "\n",
    "# Function to generate a solution using OpenAI's GPT-3.5\n",
    "def generate_solution(problem):\n",
    "    title = problem['title']\n",
    "    description = problem['description']\n",
    "    input_desc = problem['input']\n",
    "    output_desc = problem['output']\n",
    "\n",
    "    # Create a prompt based on the problem description\n",
    "    prompt = f\"Problem: {title}\\nDescription: {description}\\nInput: {input_desc}\\nOutput: {output_desc}\\n\\nWrite a Python function to solve the problem.\"\n",
    "\n",
    "    # Call OpenAI API to generate the solution\n",
    "    response = client.chat.completions.create(model=\"gpt-3.5-turbo\",\n",
    "    messages=[\n",
    "           {\"role\": \"system\", \"content\": \"You are a helpful assistant.\"},\n",
    "            {\"role\": \"user\", \"content\": prompt}\n",
    "    ])\n",
    "\n",
    "    # Extract the solution from the API response\n",
    "    solution_code = response.choices[0].message.content.strip()\n",
    "    return solution_code"
   ]
  },
  {
   "cell_type": "code",
   "execution_count": 9,
   "metadata": {},
   "outputs": [],
   "source": [
    "# Function to test the generated solution\n",
    "def test_solution(solution_code, test_cases):\n",
    "    # Define a local environment to execute the solution code\n",
    "    local_env = {}\n",
    "    exec(solution_code, local_env)\n",
    "\n",
    "    # Extract the function name (assuming it's the first function defined in the code)\n",
    "    function_name = list(local_env.keys())[0]\n",
    "\n",
    "    # Test each case\n",
    "    for case in test_cases:\n",
    "        input_values = list(map(int, case['input'].split()))\n",
    "        expected_output = int(case['output'])\n",
    "\n",
    "        # Call the generated function with test case inputs\n",
    "        result = local_env[function_name](*input_values)\n",
    "\n",
    "        print(f\"Input: {case['input']}, Expected Output: {expected_output}, Obtained Output: {result}\")\n",
    "        assert result == expected_output, \"Test case failed!\"\n",
    "\n",
    "    print(\"All test cases passed!\")"
   ]
  },
  {
   "cell_type": "code",
   "execution_count": 11,
   "metadata": {},
   "outputs": [
    {
     "name": "stdout",
     "output_type": "stream",
     "text": [
      "Generated Solution:\n",
      "Here's a Python function that solves the problem:\n",
      "\n",
      "```python\n",
      "def sum_of_two_numbers(a, b):\n",
      "    return a + b\n",
      "\n",
      "# Input\n",
      "a = int(input(\"Enter the first integer (a): \"))\n",
      "b = int(input(\"Enter the second integer (b): \"))\n",
      "\n",
      "# Output\n",
      "result = sum_of_two_numbers(a, b)\n",
      "print(\"Sum of\", a, \"and\", b, \"is:\", result)\n",
      "```\n",
      "\n",
      "You can call this function with two integers as input, and it will output their sum. Let me know if you need any further assistance.\n",
      "\n"
     ]
    }
   ],
   "source": [
    "# Solve each problem in the dataset\n",
    "for problem in dataset['problems']:\n",
    "    solution_code = generate_solution(problem)\n",
    "    print(f\"Generated Solution:\\n{solution_code}\\n\")\n",
    "    # test_solution(solution_code, problem['test_cases'])"
   ]
  }
 ],
 "metadata": {
  "kernelspec": {
   "display_name": "Python 3",
   "language": "python",
   "name": "python3"
  },
  "language_info": {
   "codemirror_mode": {
    "name": "ipython",
    "version": 3
   },
   "file_extension": ".py",
   "mimetype": "text/x-python",
   "name": "python",
   "nbconvert_exporter": "python",
   "pygments_lexer": "ipython3",
   "version": "3.12.0"
  }
 },
 "nbformat": 4,
 "nbformat_minor": 2
}
