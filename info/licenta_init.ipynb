{
 "cells": [
  {
   "cell_type": "code",
   "execution_count": 7,
   "metadata": {},
   "outputs": [],
   "source": [
    "import json\n",
    "from openai import OpenAI"
   ]
  },
  {
   "cell_type": "code",
   "execution_count": 8,
   "metadata": {},
   "outputs": [],
   "source": [
    "client = OpenAI()\n",
    "\n",
    "\n",
    "# Function to load the dataset\n",
    "def load_dataset(file_path):\n",
    "    with open(file_path, 'r') as f:\n",
    "        data = json.load(f)\n",
    "    return data\n",
    "\n",
    "# Function to generate a solution using OpenAI's GPT-3.5\n",
    "def generate_solution(problem):\n",
    "    title = problem['title']\n",
    "    description = problem['description']\n",
    "    input_desc = problem['input']\n",
    "    output_desc = problem['output']\n",
    "\n",
    "    # Create a prompt based on the problem description\n",
    "    prompt = f\"Problem: {title}\\nDescription: {description}\\nInput: {input_desc}\\nOutput: {output_desc}\\n\\nWrite a Python function to solve the problem.\"\n",
    "\n",
    "    # Call OpenAI API to generate the solution\n",
    "    response = client.chat.completions.create(model=\"gpt-3.5-turbo\",\n",
    "    messages=[\n",
    "           {\"role\": \"system\", \"content\": \"You are a helpful assistant.\"},\n",
    "            {\"role\": \"user\", \"content\": prompt}\n",
    "    ])\n",
    "\n",
    "    # Extract the solution from the API response\n",
    "    solution_code = response.choices[0].message.content.strip()\n",
    "    return solution_code\n",
    "\n",
    "\n"
   ]
  },
  {
   "cell_type": "code",
   "execution_count": 9,
   "metadata": {},
   "outputs": [],
   "source": [
    "# Function to test the generated solution\n",
    "def test_solution(solution_code, test_cases):\n",
    "    # Define a local environment to execute the solution code\n",
    "    local_env = {}\n",
    "    exec(solution_code, local_env)\n",
    "\n",
    "    # Extract the function name (assuming it's the first function defined in the code)\n",
    "    function_name = list(local_env.keys())[0]\n",
    "\n",
    "    # Test each case\n",
    "    for case in test_cases:\n",
    "        input_values = list(map(int, case['input'].split()))\n",
    "        expected_output = int(case['output'])\n",
    "\n",
    "        # Call the generated function with test case inputs\n",
    "        result = local_env[function_name](*input_values)\n",
    "\n",
    "        print(f\"Input: {case['input']}, Expected Output: {expected_output}, Obtained Output: {result}\")\n",
    "        assert result == expected_output, \"Test case failed!\"\n",
    "\n",
    "    print(\"All test cases passed!\")"
   ]
  },
  {
   "cell_type": "code",
   "execution_count": 10,
   "metadata": {},
   "outputs": [
    {
     "name": "stdout",
     "output_type": "stream",
     "text": [
      "{'problems': [{'title': 'Sum of Two Numbers', 'description': 'Given two integers, output their sum.', 'input': 'Two integers a and b (1 <= a, b <= 1000).', 'output': 'A single integer, the sum of a and b.', 'test_cases': [{'input': '2 3', 'output': '5'}, {'input': '10 20', 'output': '30'}]}]}\n"
     ]
    }
   ],
   "source": [
    "    \n",
    "# Load the dataset\n",
    "dataset = load_dataset('dataset.json')\n",
    "\n",
    "print(dataset)\n"
   ]
  },
  {
   "cell_type": "code",
   "execution_count": 11,
   "metadata": {},
   "outputs": [
    {
     "name": "stdout",
     "output_type": "stream",
     "text": [
      "Generated Solution:\n",
      "Here's a Python function that solves the problem:\n",
      "\n",
      "```python\n",
      "def sum_of_two_numbers(a, b):\n",
      "    return a + b\n",
      "\n",
      "# Input\n",
      "a = int(input(\"Enter the first integer (a): \"))\n",
      "b = int(input(\"Enter the second integer (b): \"))\n",
      "\n",
      "# Output\n",
      "result = sum_of_two_numbers(a, b)\n",
      "print(\"Sum of\", a, \"and\", b, \"is:\", result)\n",
      "```\n",
      "\n",
      "You can call this function with two integers as input, and it will output their sum. Let me know if you need any further assistance.\n",
      "\n"
     ]
    }
   ],
   "source": [
    "# Solve each problem in the dataset\n",
    "for problem in dataset['problems']:\n",
    "    solution_code = generate_solution(problem)\n",
    "    print(f\"Generated Solution:\\n{solution_code}\\n\")\n",
    "    # test_solution(solution_code, problem['test_cases'])"
   ]
  }
 ],
 "metadata": {
  "kernelspec": {
   "display_name": "Python 3",
   "language": "python",
   "name": "python3"
  },
  "language_info": {
   "codemirror_mode": {
    "name": "ipython",
    "version": 3
   },
   "file_extension": ".py",
   "mimetype": "text/x-python",
   "name": "python",
   "nbconvert_exporter": "python",
   "pygments_lexer": "ipython3",
   "version": "3.12.0"
  }
 },
 "nbformat": 4,
 "nbformat_minor": 2
}
